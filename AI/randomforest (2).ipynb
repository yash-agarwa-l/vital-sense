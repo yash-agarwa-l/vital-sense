{
  "metadata": {
    "kernelspec": {
      "name": "python",
      "display_name": "Python (Pyodide)",
      "language": "python"
    },
    "language_info": {
      "codemirror_mode": {
        "name": "python",
        "version": 3
      },
      "file_extension": ".py",
      "mimetype": "text/x-python",
      "name": "python",
      "nbconvert_exporter": "python",
      "pygments_lexer": "ipython3",
      "version": "3.8"
    }
  },
  "nbformat_minor": 5,
  "nbformat": 4,
  "cells": [
    {
      "id": "053edacc-cc50-4c0e-a6c0-cc874d9e9df3",
      "cell_type": "code",
      "source": "import pandas as pd\nimport numpy as np\nimport seaborn as sns\nimport matplotlib.pyplot as plt\nfrom sklearn.model_selection import train_test_split\nfrom sklearn.ensemble import RandomForestClassifier\nfrom sklearn.metrics import accuracy_score, classification_report, confusion_matrix\nfrom sklearn.preprocessing import StandardScaler\n\n",
      "metadata": {
        "trusted": true
      },
      "outputs": [
        {
          "ename": "<class 'ModuleNotFoundError'>",
          "evalue": "No module named 'seaborn'",
          "traceback": [
            "\u001b[0;31m---------------------------------------------------------------------------\u001b[0m",
            "\u001b[0;31mModuleNotFoundError\u001b[0m                       Traceback (most recent call last)",
            "Cell \u001b[0;32mIn[11], line 3\u001b[0m\n\u001b[1;32m      1\u001b[0m \u001b[38;5;28;01mimport\u001b[39;00m \u001b[38;5;21;01mpandas\u001b[39;00m \u001b[38;5;28;01mas\u001b[39;00m \u001b[38;5;21;01mpd\u001b[39;00m\n\u001b[1;32m      2\u001b[0m \u001b[38;5;28;01mimport\u001b[39;00m \u001b[38;5;21;01mnumpy\u001b[39;00m \u001b[38;5;28;01mas\u001b[39;00m \u001b[38;5;21;01mnp\u001b[39;00m\n\u001b[0;32m----> 3\u001b[0m \u001b[38;5;28;01mimport\u001b[39;00m \u001b[38;5;21;01mseaborn\u001b[39;00m \u001b[38;5;28;01mas\u001b[39;00m \u001b[38;5;21;01msns\u001b[39;00m\n\u001b[1;32m      4\u001b[0m \u001b[38;5;28;01mimport\u001b[39;00m \u001b[38;5;21;01mmatplotlib\u001b[39;00m\u001b[38;5;21;01m.\u001b[39;00m\u001b[38;5;21;01mpyplot\u001b[39;00m \u001b[38;5;28;01mas\u001b[39;00m \u001b[38;5;21;01mplt\u001b[39;00m\n\u001b[1;32m      5\u001b[0m \u001b[38;5;28;01mfrom\u001b[39;00m \u001b[38;5;21;01msklearn\u001b[39;00m\u001b[38;5;21;01m.\u001b[39;00m\u001b[38;5;21;01mmodel_selection\u001b[39;00m \u001b[38;5;28;01mimport\u001b[39;00m train_test_split\n",
            "\u001b[0;31mModuleNotFoundError\u001b[0m: No module named 'seaborn'"
          ],
          "output_type": "error"
        }
      ],
      "execution_count": 11
    },
    {
      "id": "fa2bf210-2918-46a1-8d99-05932dbe4475",
      "cell_type": "code",
      "source": "from io import StringIO\n\n# Sample dataset (replace this with your full dataset file)\ndata = \"\"\"subject_id,icustay_id,heart_rate,blood_pressure,oxygen_saturation,respiratory_rate,temperature,Label\n94297,200697.0,93.0,94.0,98.0,39.0,36.0,1\n94229,219381.0,97.0,96.0,98.0,16.0,36.5,0\n94195,276193.0,82.0,96.0,97.0,25.0,36.3,1\n94256,241577.0,98.0,196.0,96.0,16.0,36.5,1\n93996,236789.0,98.0,92.0,99.0,28.0,37.2,1\n93784,235692.0,93.0,95.0,99.0,18.0,37.0,0\"\"\"\n\ndf = pd.read_csv(StringIO(data))\n\n# Display first few rows\ndf.head()\n",
      "metadata": {
        "trusted": true
      },
      "outputs": [
        {
          "execution_count": 10,
          "output_type": "execute_result",
          "data": {
            "text/plain": "   subject_id  icustay_id  heart_rate  blood_pressure  oxygen_saturation  \\\n0       94297    200697.0        93.0            94.0               98.0   \n1       94229    219381.0        97.0            96.0               98.0   \n2       94195    276193.0        82.0            96.0               97.0   \n3       94256    241577.0        98.0           196.0               96.0   \n4       93996    236789.0        98.0            92.0               99.0   \n\n   respiratory_rate  temperature  Label  \n0              39.0         36.0      1  \n1              16.0         36.5      0  \n2              25.0         36.3      1  \n3              16.0         36.5      1  \n4              28.0         37.2      1  ",
            "text/html": "<div>\n<style scoped>\n    .dataframe tbody tr th:only-of-type {\n        vertical-align: middle;\n    }\n\n    .dataframe tbody tr th {\n        vertical-align: top;\n    }\n\n    .dataframe thead th {\n        text-align: right;\n    }\n</style>\n<table border=\"1\" class=\"dataframe\">\n  <thead>\n    <tr style=\"text-align: right;\">\n      <th></th>\n      <th>subject_id</th>\n      <th>icustay_id</th>\n      <th>heart_rate</th>\n      <th>blood_pressure</th>\n      <th>oxygen_saturation</th>\n      <th>respiratory_rate</th>\n      <th>temperature</th>\n      <th>Label</th>\n    </tr>\n  </thead>\n  <tbody>\n    <tr>\n      <th>0</th>\n      <td>94297</td>\n      <td>200697.0</td>\n      <td>93.0</td>\n      <td>94.0</td>\n      <td>98.0</td>\n      <td>39.0</td>\n      <td>36.0</td>\n      <td>1</td>\n    </tr>\n    <tr>\n      <th>1</th>\n      <td>94229</td>\n      <td>219381.0</td>\n      <td>97.0</td>\n      <td>96.0</td>\n      <td>98.0</td>\n      <td>16.0</td>\n      <td>36.5</td>\n      <td>0</td>\n    </tr>\n    <tr>\n      <th>2</th>\n      <td>94195</td>\n      <td>276193.0</td>\n      <td>82.0</td>\n      <td>96.0</td>\n      <td>97.0</td>\n      <td>25.0</td>\n      <td>36.3</td>\n      <td>1</td>\n    </tr>\n    <tr>\n      <th>3</th>\n      <td>94256</td>\n      <td>241577.0</td>\n      <td>98.0</td>\n      <td>196.0</td>\n      <td>96.0</td>\n      <td>16.0</td>\n      <td>36.5</td>\n      <td>1</td>\n    </tr>\n    <tr>\n      <th>4</th>\n      <td>93996</td>\n      <td>236789.0</td>\n      <td>98.0</td>\n      <td>92.0</td>\n      <td>99.0</td>\n      <td>28.0</td>\n      <td>37.2</td>\n      <td>1</td>\n    </tr>\n  </tbody>\n</table>\n</div>"
          },
          "metadata": {}
        }
      ],
      "execution_count": 10
    },
    {
      "id": "702e0921-6a4f-447f-b788-ed6402880586",
      "cell_type": "code",
      "source": "# Drop 'subject_id' and 'icustay_id' since they are not features\ndf = df.drop(columns=['subject_id', 'icustay_id'])\n\n# Separate features (X) and target label (y)\nX = df.drop(columns=['Label'])  # Features\ny = df['Label']  # Target (Severe = 1, Not Severe = 0)\n\n# Standardize the features (important for scaling)\nscaler = StandardScaler()\nX_scaled = scaler.fit_transform(X)\n\n# Split dataset into training and testing sets (80% train, 20% test)\nX_train, X_test, y_train, y_test = train_test_split(X_scaled, y, test_size=0.2, random_state=42)\n\nprint(\"Training set size:\", X_train.shape)\nprint(\"Test set size:\", X_test.shape)\n",
      "metadata": {
        "trusted": true
      },
      "outputs": [
        {
          "ename": "<class 'NameError'>",
          "evalue": "name 'StandardScaler' is not defined",
          "traceback": [
            "\u001b[0;31m---------------------------------------------------------------------------\u001b[0m",
            "\u001b[0;31mNameError\u001b[0m                                 Traceback (most recent call last)",
            "Cell \u001b[0;32mIn[3], line 9\u001b[0m\n\u001b[1;32m      6\u001b[0m y \u001b[38;5;241m=\u001b[39m df[\u001b[38;5;124m'\u001b[39m\u001b[38;5;124mLabel\u001b[39m\u001b[38;5;124m'\u001b[39m]  \u001b[38;5;66;03m# Target (Severe = 1, Not Severe = 0)\u001b[39;00m\n\u001b[1;32m      8\u001b[0m \u001b[38;5;66;03m# Standardize the features (important for scaling)\u001b[39;00m\n\u001b[0;32m----> 9\u001b[0m scaler \u001b[38;5;241m=\u001b[39m \u001b[43mStandardScaler\u001b[49m()\n\u001b[1;32m     10\u001b[0m X_scaled \u001b[38;5;241m=\u001b[39m scaler\u001b[38;5;241m.\u001b[39mfit_transform(X)\n\u001b[1;32m     12\u001b[0m \u001b[38;5;66;03m# Split dataset into training and testing sets (80% train, 20% test)\u001b[39;00m\n",
            "\u001b[0;31mNameError\u001b[0m: name 'StandardScaler' is not defined"
          ],
          "output_type": "error"
        }
      ],
      "execution_count": 3
    },
    {
      "id": "c8c41f2c-41b4-43f6-96ad-9f86e05940c1",
      "cell_type": "code",
      "source": "\nrf_model = RandomForestClassifier(n_estimators=100, max_depth=5, random_state=42)\nrf_model.fit(X_train, y_train)\n\nprint(\"Model training complete!\")\n",
      "metadata": {
        "trusted": true
      },
      "outputs": [
        {
          "ename": "<class 'NameError'>",
          "evalue": "name 'RandomForestClassifier' is not defined",
          "traceback": [
            "\u001b[0;31m---------------------------------------------------------------------------\u001b[0m",
            "\u001b[0;31mNameError\u001b[0m                                 Traceback (most recent call last)",
            "Cell \u001b[0;32mIn[4], line 1\u001b[0m\n\u001b[0;32m----> 1\u001b[0m rf_model \u001b[38;5;241m=\u001b[39m \u001b[43mRandomForestClassifier\u001b[49m(n_estimators\u001b[38;5;241m=\u001b[39m\u001b[38;5;241m100\u001b[39m, max_depth\u001b[38;5;241m=\u001b[39m\u001b[38;5;241m5\u001b[39m, random_state\u001b[38;5;241m=\u001b[39m\u001b[38;5;241m42\u001b[39m)\n\u001b[1;32m      2\u001b[0m rf_model\u001b[38;5;241m.\u001b[39mfit(X_train, y_train)\n\u001b[1;32m      4\u001b[0m \u001b[38;5;28mprint\u001b[39m(\u001b[38;5;124m\"\u001b[39m\u001b[38;5;124mModel training complete!\u001b[39m\u001b[38;5;124m\"\u001b[39m)\n",
            "\u001b[0;31mNameError\u001b[0m: name 'RandomForestClassifier' is not defined"
          ],
          "output_type": "error"
        }
      ],
      "execution_count": 4
    },
    {
      "id": "946ef045-4625-4aa0-8d68-8243e27af34e",
      "cell_type": "code",
      "source": "# Predict on test data\ny_pred = rf_model.predict(X_test)\n\n# Calculate accuracy\naccuracy = accuracy_score(y_test, y_pred)\nprint(f\"Model Accuracy: {accuracy * 100:.2f}%\")\n\n# Display classification report\nprint(\"Classification Report:\\n\", classification_report(y_test, y_pred))\n\n# Show confusion matrix\nsns.heatmap(confusion_matrix(y_test, y_pred), annot=True, fmt=\"d\", cmap=\"Blues\")\nplt.xlabel(\"Predicted\")\nplt.ylabel(\"Actual\")\nplt.show()\n",
      "metadata": {
        "trusted": true
      },
      "outputs": [
        {
          "ename": "<class 'NameError'>",
          "evalue": "name 'rf_model' is not defined",
          "traceback": [
            "\u001b[0;31m---------------------------------------------------------------------------\u001b[0m",
            "\u001b[0;31mNameError\u001b[0m                                 Traceback (most recent call last)",
            "Cell \u001b[0;32mIn[6], line 2\u001b[0m\n\u001b[1;32m      1\u001b[0m \u001b[38;5;66;03m# Predict on test data\u001b[39;00m\n\u001b[0;32m----> 2\u001b[0m y_pred \u001b[38;5;241m=\u001b[39m \u001b[43mrf_model\u001b[49m\u001b[38;5;241m.\u001b[39mpredict(X_test)\n\u001b[1;32m      4\u001b[0m \u001b[38;5;66;03m# Calculate accuracy\u001b[39;00m\n\u001b[1;32m      5\u001b[0m accuracy \u001b[38;5;241m=\u001b[39m accuracy_score(y_test, y_pred)\n",
            "\u001b[0;31mNameError\u001b[0m: name 'rf_model' is not defined"
          ],
          "output_type": "error"
        }
      ],
      "execution_count": 6
    },
    {
      "id": "a8dc6978-d231-491e-a8f7-deea3c27d66d",
      "cell_type": "code",
      "source": "",
      "metadata": {
        "trusted": true
      },
      "outputs": [],
      "execution_count": null
    }
  ]
}